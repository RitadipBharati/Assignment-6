{
 "cells": [
  {
   "cell_type": "code",
   "execution_count": 1,
   "metadata": {},
   "outputs": [
    {
     "name": "stdout",
     "output_type": "stream",
     "text": [
      "importing Jupyter notebook from MyLibrary.ipynb\n"
     ]
    }
   ],
   "source": [
    "import import_ipynb\n",
    "from MyLibrary import *"
   ]
  },
  {
   "cell_type": "markdown",
   "metadata": {},
   "source": [
    "# Question1\n",
    "## Numerically integrate the following using Midpoint, Trapezoidal and Simpson techniques for N = 8, 16 and 24 and compare the result (in tabular format) with the actual analytical result.\n",
    "## int_1^4{1+1/x}"
   ]
  },
  {
   "cell_type": "code",
   "execution_count": 2,
   "metadata": {},
   "outputs": [],
   "source": [
    "def Func1(x):\n",
    "    return((1+1/x)**(0.5))"
   ]
  },
  {
   "cell_type": "code",
   "execution_count": 3,
   "metadata": {},
   "outputs": [
    {
     "name": "stdout",
     "output_type": "stream",
     "text": [
      "    By Midpoint method  By Trapezoidal method  By Simpson method\n",
      "N                                                               \n",
      "8             3.618314               3.623957           3.620330\n",
      "16            3.619710               3.621135           3.620195\n",
      "24            3.619973               3.620608           3.620186\n"
     ]
    }
   ],
   "source": [
    "N=[8,16,24]\n",
    "MID1=[INT_MID(Func1,1,4,N[i]) for i in range(len(N))]\n",
    "TRAP1=[INT_TRAP(Func1,1,4,N[i]) for i in range(len(N))]\n",
    "SIMP1=[INT_SIMP(Func1,1,4,N[i]) for i in range(len(N))]\n",
    "Data1=[[N[i],MID1[i],TRAP1[i],SIMP1[i]] for i in range(len(N))]\n",
    "Column=[\"N\",\"By Midpoint method\",\"By Trapezoidal method\",\"By Simpson method\"]\n",
    "MakeTable(\"Assignment6Question1.csv\",Column,Data1)"
   ]
  },
  {
   "cell_type": "markdown",
   "metadata": {},
   "source": [
    "# Question2\n",
    "## Numerically integrate the following using Midpoint, Trapezoidal and Simpson techniques with maximum error of 0.001.\n",
    "## int_0^1{x*sqrt{x+1}}\n",
    "### For midpoint method, error value 0.001 gives N as ceil(6.45)=7, for trapezoidal N=ceil(9.1287)=10 and for simpson N=ceil(1.535)=2"
   ]
  },
  {
   "cell_type": "code",
   "execution_count": 4,
   "metadata": {},
   "outputs": [],
   "source": [
    "def Func2(x):\n",
    "    return(x*(x+1)**0.5)"
   ]
  },
  {
   "cell_type": "code",
   "execution_count": 5,
   "metadata": {},
   "outputs": [
    {
     "name": "stdout",
     "output_type": "stream",
     "text": [
      "Midpoint method yields the value: 0.643137698010569\n",
      "Trapizoidal method yields the value: 0.6444300126935936\n",
      "Simpson method yields the value: 0.6439505508593788\n"
     ]
    }
   ],
   "source": [
    "print(\"Midpoint method yields the value: \"+str(INT_MID(Func2,0,1,7)))\n",
    "print(\"Trapizoidal method yields the value: \"+str(INT_TRAP(Func2,0,1,10))) \n",
    "print(\"Simpson method yields the value: \"+str(INT_SIMP(Func2,0,1,2)))"
   ]
  },
  {
   "cell_type": "markdown",
   "metadata": {},
   "source": [
    "# Question3\n",
    "## Use Monte Carlo to estimate the value of π from the following integral\n",
    "## int_0^1{4/(1+x^2)}=π\n",
    "## Use system built random number generator and sample N starting from 10 and keep increasing in multiple of 10. Go as far as possible within a reasonable time. Plot π vs. N."
   ]
  },
  {
   "cell_type": "code",
   "execution_count": 6,
   "metadata": {},
   "outputs": [],
   "source": [
    "def Func3(x):\n",
    "    return(4/(1+x**2))"
   ]
  },
  {
   "cell_type": "code",
   "execution_count": 8,
   "metadata": {},
   "outputs": [
    {
     "name": "stdout",
     "output_type": "stream",
     "text": [
      "3.1483544711483744\n"
     ]
    },
    {
     "data": {
      "image/png": "[encoded data removed]",
      "text/plain": [
       "<Figure size 432x288 with 1 Axes>"
      ]
     },
     "metadata": {
      "needs_background": "light"
     },
     "output_type": "display_data"
    }
   ],
   "source": [
    "x_plot, y_plot,INT=INT_MONT_PLOT(Func3,0,1,10,10,10000)\n",
    "print(INT)\n",
    "plt.plot(x_plot,y_plot,\".\")\n",
    "plt.xlabel('Iteration number(N)')\n",
    "plt.ylabel('pi')\n",
    "plt.rcParams[\"figure.figsize\"]=10,5\n",
    "plt.show()"
   ]
  },
  {
   "cell_type": "markdown",
   "metadata": {},
   "source": [
    "# Question4\n",
    "## A beam 2 meter long has linear mass density λ(x) = x^2 , where x is measured from one of the ends. Find the center of mass of the beam numerically."
   ]
  },
  {
   "cell_type": "code",
   "execution_count": 9,
   "metadata": {},
   "outputs": [],
   "source": [
    "def Func4(x):\n",
    "    return(x**2)"
   ]
  },
  {
   "cell_type": "code",
   "execution_count": 10,
   "metadata": {},
   "outputs": [],
   "source": [
    "def CMfinder(func,a,b,tol=0.001):\n",
    "    Y=1\n",
    "    xa=a\n",
    "    xb=b\n",
    "    while abs(Y)>tol:\n",
    "        x=(xb+xa)/2\n",
    "        Y=INT_SIMP(func,a,x)-INT_SIMP(func,x,b)\n",
    "        if Y<0:\n",
    "            xa=x\n",
    "        else:\n",
    "            xb=x\n",
    "    return(x,Y)"
   ]
  },
  {
   "cell_type": "code",
   "execution_count": 11,
   "metadata": {},
   "outputs": [
    {
     "name": "stdout",
     "output_type": "stream",
     "text": [
      "The CM is at 1.58740234375 meter with an error of mass 6.5101763189190365e-06\n"
     ]
    }
   ],
   "source": [
    "X,Err=CMfinder(Func4,0,2)\n",
    "print(\"The CM is at \"+str(X)+\" meter with an error of mass \"+str(Err))"
   ]
  },
  {
   "cell_type": "code",
   "execution_count": null,
   "metadata": {},
   "outputs": [],
   "source": []
  },
  {
   "cell_type": "code",
   "execution_count": null,
   "metadata": {},
   "outputs": [],
   "source": []
  }
 ],
 "metadata": {
  "kernelspec": {
   "display_name": "Python 3",
   "language": "python",
   "name": "python3"
  },
  "language_info": {
   "codemirror_mode": {
    "name": "ipython",
    "version": 3
   },
   "file_extension": ".py",
   "mimetype": "text/x-python",
   "name": "python",
   "nbconvert_exporter": "python",
   "pygments_lexer": "ipython3",
   "version": "3.7.6"
  }
 },
 "nbformat": 4,
 "nbformat_minor": 4
}
